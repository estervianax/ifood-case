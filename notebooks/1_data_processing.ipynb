{
 "cells": [
  {
   "cell_type": "markdown",
   "metadata": {},
   "source": [
    "# Data Preprocessing Notebook\n",
    "This notebook focuses on cleaning, preprocessing, and preparing the dataset for modeling.   \n",
    "Additionally, exploratory data analysis (EDA) is performed using Pandas."
   ]
  },
  {
   "cell_type": "markdown",
   "metadata": {},
   "source": [
    "### Inicialize Spark"
   ]
  },
  {
   "cell_type": "code",
   "execution_count": null,
   "metadata": {},
   "outputs": [],
   "source": [
    "spark"
   ]
  },
  {
   "cell_type": "markdown",
   "metadata": {},
   "source": [
    "### Import libraries"
   ]
  },
  {
   "cell_type": "code",
   "execution_count": null,
   "metadata": {},
   "outputs": [],
   "source": [
    "from src.data_preprocessing import DataPreprocessor\n",
    "from src.historical_data_viz import HistoricalDataVisualizer\n",
    "import pandas as pd"
   ]
  },
  {
   "cell_type": "markdown",
   "metadata": {},
   "source": [
    "### Load data"
   ]
  },
  {
   "cell_type": "code",
   "execution_count": null,
   "metadata": {},
   "outputs": [],
   "source": [
    "df_offers = spark.read.json('~/ifood_case/data/offers.json')\n",
    "df_transactions = spark.read.json('~/ifood_case/data/transactions.json')\n",
    "df_profile = spark.read.json('~/ifood_case/data/profile.json')"
   ]
  },
  {
   "cell_type": "markdown",
   "metadata": {},
   "source": [
    "### Use **DataPreprocessor** class to preprocess the data"
   ]
  },
  {
   "cell_type": "code",
   "execution_count": null,
   "metadata": {},
   "outputs": [],
   "source": [
    "df_processing = DataPreprocessor(df_profile, df_transactions)\n",
    "df_procesed, df_model = df_processing.transform()"
   ]
  },
  {
   "cell_type": "markdown",
   "metadata": {},
   "source": [
    "### Save processed data"
   ]
  },
  {
   "cell_type": "code",
   "execution_count": null,
   "metadata": {},
   "outputs": [],
   "source": [
    "df_procesed.repartition(1).write.mode(\"overwrite\").parquet('~/ifood_case/data/df_all.parquet')\n",
    "df_model.repartition(1).write.mode(\"overwrite\").parquet('~/ifood_case/data/df_model.parquet')"
   ]
  },
  {
   "cell_type": "markdown",
   "metadata": {},
   "source": [
    "### Read the processed data as Pandas DataFrames\n",
    "This step is required for plotting."
   ]
  },
  {
   "cell_type": "code",
   "execution_count": null,
   "metadata": {},
   "outputs": [],
   "source": [
    "df_procesed = pd.read_parquet('~/ifood_case/data/processed/df_all.parquet')\n",
    "df_model = pd.read_parquet('~/ifood_case/data/processed/df_model.parquet')"
   ]
  },
  {
   "cell_type": "markdown",
   "metadata": {},
   "source": [
    "### Use **HistoricalDataVisualizer** class to generate data exploration visualizations"
   ]
  },
  {
   "cell_type": "code",
   "execution_count": null,
   "metadata": {},
   "outputs": [],
   "source": [
    "viz = HistoricalDataVisualizer(df_procesed,df_model)\n",
    "viz.plot_historical_data()"
   ]
  }
 ],
 "metadata": {
  "kernelspec": {
   "display_name": "venv",
   "language": "python",
   "name": "python3"
  },
  "language_info": {
   "codemirror_mode": {
    "name": "ipython",
    "version": 3
   },
   "file_extension": ".py",
   "mimetype": "text/x-python",
   "name": "python",
   "nbconvert_exporter": "python",
   "pygments_lexer": "ipython3",
   "version": "3.8.10"
  }
 },
 "nbformat": 4,
 "nbformat_minor": 2
}
